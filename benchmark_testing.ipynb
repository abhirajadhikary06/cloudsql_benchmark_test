{
 "cells": [
  {
   "cell_type": "code",
   "execution_count": 1,
   "id": "1cd42f24",
   "metadata": {},
   "outputs": [],
   "source": [
    "from dotenv import load_dotenv\n",
    "import os\n",
    "load_dotenv()\n",
    "neon_url = os.getenv(\"NEONDB_DATABASE_URL\")\n",
    "render_url = os.getenv(\"RENDER_DATABASE_URL\")\n",
    "xata_url = os.getenv(\"XATA_DATABASE_URL\")"
   ]
  },
  {
   "cell_type": "code",
   "execution_count": 6,
   "id": "5f332333",
   "metadata": {},
   "outputs": [],
   "source": [
    "import psycopg\n",
    "import time\n",
    "import statistics\n",
    "import os"
   ]
  },
  {
   "cell_type": "markdown",
   "id": "a8984d1b",
   "metadata": {},
   "source": [
    "# Avg Connection Latency of NeonDB: 494.19 ms"
   ]
  },
  {
   "cell_type": "code",
   "execution_count": 7,
   "id": "fd1d517d",
   "metadata": {},
   "outputs": [
    {
     "name": "stdout",
     "output_type": "stream",
     "text": [
      "Avg Connection Latency of NeonDB: 494.19 ms\n"
     ]
    }
   ],
   "source": [
    "conn_str = os.getenv(\"NEONDB_DATABASE_URL\")\n",
    "latencies = []\n",
    "\n",
    "for _ in range(100):\n",
    "    start = time.perf_counter()\n",
    "    conn = psycopg.connect(conn_str)\n",
    "    conn.close()\n",
    "    end = time.perf_counter()\n",
    "    latencies.append((end - start) * 1000)  # ms\n",
    "\n",
    "avg_latency = statistics.mean(latencies)\n",
    "print(f\"Avg Connection Latency of NeonDB: {avg_latency:.2f} ms\")"
   ]
  },
  {
   "cell_type": "markdown",
   "id": "9855ab5d",
   "metadata": {},
   "source": [
    "# Avg Connection Latency of Render: 948.76 ms"
   ]
  },
  {
   "cell_type": "code",
   "execution_count": 8,
   "id": "5a7ad9cf",
   "metadata": {},
   "outputs": [
    {
     "name": "stdout",
     "output_type": "stream",
     "text": [
      "Avg Connection Latency of Render: 948.76 ms\n"
     ]
    }
   ],
   "source": [
    "conn_str = os.getenv(\"RENDER_DATABASE_URL\")\n",
    "latencies = []\n",
    "\n",
    "for _ in range(100):\n",
    "    start = time.perf_counter()\n",
    "    conn = psycopg.connect(conn_str)\n",
    "    conn.close()\n",
    "    end = time.perf_counter()\n",
    "    latencies.append((end - start) * 1000)  # ms\n",
    "\n",
    "avg_latency = statistics.mean(latencies)\n",
    "print(f\"Avg Connection Latency of Render: {avg_latency:.2f} ms\")"
   ]
  },
  {
   "cell_type": "markdown",
   "id": "033a662e",
   "metadata": {},
   "source": [
    "# Avg Connection Latency of Xata: 984.92 ms"
   ]
  },
  {
   "cell_type": "code",
   "execution_count": 11,
   "id": "5f495d3f",
   "metadata": {},
   "outputs": [
    {
     "name": "stdout",
     "output_type": "stream",
     "text": [
      "Avg Connection Latency of Xata: 984.92 ms\n"
     ]
    }
   ],
   "source": [
    "conn_str = os.getenv(\"XATA_DATABASE_URL\")\n",
    "latencies = []\n",
    "\n",
    "for _ in range(100):\n",
    "    start = time.perf_counter()\n",
    "    conn = psycopg.connect(conn_str)\n",
    "    conn.close()\n",
    "    end = time.perf_counter()\n",
    "    latencies.append((end - start) * 1000)  # ms\n",
    "\n",
    "avg_latency = statistics.mean(latencies)\n",
    "print(f\"Avg Connection Latency of Xata: {avg_latency:.2f} ms\")"
   ]
  },
  {
   "cell_type": "code",
   "execution_count": null,
   "id": "9a6e599b",
   "metadata": {},
   "outputs": [],
   "source": []
  }
 ],
 "metadata": {
  "kernelspec": {
   "display_name": "venv",
   "language": "python",
   "name": "python3"
  },
  "language_info": {
   "codemirror_mode": {
    "name": "ipython",
    "version": 3
   },
   "file_extension": ".py",
   "mimetype": "text/x-python",
   "name": "python",
   "nbconvert_exporter": "python",
   "pygments_lexer": "ipython3",
   "version": "3.11.7"
  }
 },
 "nbformat": 4,
 "nbformat_minor": 5
}
